{
  "nbformat": 4,
  "nbformat_minor": 0,
  "metadata": {
    "colab": {
      "name": "Brightics.ipynb",
      "version": "0.3.2",
      "provenance": [],
      "collapsed_sections": [],
      "include_colab_link": true
    },
    "kernelspec": {
      "name": "python3",
      "display_name": "Python 3"
    },
    "accelerator": "GPU"
  },
  "cells": [
    {
      "cell_type": "markdown",
      "metadata": {
        "id": "view-in-github",
        "colab_type": "text"
      },
      "source": [
        "<a href=\"https://colab.research.google.com/github/suubkiim/Brightics/blob/master/Brightics.ipynb\" target=\"_parent\"><img src=\"https://colab.research.google.com/assets/colab-badge.svg\" alt=\"Open In Colab\"/></a>"
      ]
    },
    {
      "cell_type": "code",
      "metadata": {
        "id": "wJN0WjMw6Sr6",
        "colab_type": "code",
        "colab": {}
      },
      "source": [
        "import pandas as pd\n",
        "import numpy as np\n",
        "meal_path='mealData_meal.csv'\n",
        "cus_path='mealData_customer.csv'"
      ],
      "execution_count": 0,
      "outputs": []
    },
    {
      "cell_type": "code",
      "metadata": {
        "id": "vXAtlpSQ7plD",
        "colab_type": "code",
        "colab": {}
      },
      "source": [
        "meal = pd.read_csv(meal_path)\n",
        "cus = pd.read_csv(cus_path)"
      ],
      "execution_count": 0,
      "outputs": []
    },
    {
      "cell_type": "code",
      "metadata": {
        "id": "aPAv60Sz7xm4",
        "colab_type": "code",
        "colab": {
          "base_uri": "https://localhost:8080/",
          "height": 202
        },
        "outputId": "8f519e83-4002-4948-a602-d73417a544e5"
      },
      "source": [
        "meal.head()"
      ],
      "execution_count": 5,
      "outputs": [
        {
          "output_type": "execute_result",
          "data": {
            "text/html": [
              "<div>\n",
              "<style scoped>\n",
              "    .dataframe tbody tr th:only-of-type {\n",
              "        vertical-align: middle;\n",
              "    }\n",
              "\n",
              "    .dataframe tbody tr th {\n",
              "        vertical-align: top;\n",
              "    }\n",
              "\n",
              "    .dataframe thead th {\n",
              "        text-align: right;\n",
              "    }\n",
              "</style>\n",
              "<table border=\"1\" class=\"dataframe\">\n",
              "  <thead>\n",
              "    <tr style=\"text-align: right;\">\n",
              "      <th></th>\n",
              "      <th>SELL_DATE</th>\n",
              "      <th>CUSTOMER_ID</th>\n",
              "      <th>BRAND</th>\n",
              "      <th>MENU</th>\n",
              "      <th>PRICE</th>\n",
              "      <th>QUANTITY</th>\n",
              "    </tr>\n",
              "  </thead>\n",
              "  <tbody>\n",
              "    <tr>\n",
              "      <th>0</th>\n",
              "      <td>2018-01-02</td>\n",
              "      <td>2718043</td>\n",
              "      <td>Chef`sCounter</td>\n",
              "      <td>헬스기빙</td>\n",
              "      <td>6500</td>\n",
              "      <td>1</td>\n",
              "    </tr>\n",
              "    <tr>\n",
              "      <th>1</th>\n",
              "      <td>2018-01-02</td>\n",
              "      <td>2271646</td>\n",
              "      <td>우리미각면</td>\n",
              "      <td>의령온메밀국수</td>\n",
              "      <td>6000</td>\n",
              "      <td>1</td>\n",
              "    </tr>\n",
              "    <tr>\n",
              "      <th>2</th>\n",
              "      <td>2018-01-02</td>\n",
              "      <td>2577432</td>\n",
              "      <td>나폴리폴리</td>\n",
              "      <td>이탈리안포크라이스</td>\n",
              "      <td>6000</td>\n",
              "      <td>1</td>\n",
              "    </tr>\n",
              "    <tr>\n",
              "      <th>3</th>\n",
              "      <td>2018-01-02</td>\n",
              "      <td>2048428</td>\n",
              "      <td>우리미각면</td>\n",
              "      <td>의령온메밀국수</td>\n",
              "      <td>6000</td>\n",
              "      <td>1</td>\n",
              "    </tr>\n",
              "    <tr>\n",
              "      <th>4</th>\n",
              "      <td>2018-01-02</td>\n",
              "      <td>2554917</td>\n",
              "      <td>TakeOut</td>\n",
              "      <td>쌈밥</td>\n",
              "      <td>5500</td>\n",
              "      <td>1</td>\n",
              "    </tr>\n",
              "  </tbody>\n",
              "</table>\n",
              "</div>"
            ],
            "text/plain": [
              "    SELL_DATE  CUSTOMER_ID          BRAND       MENU  PRICE  QUANTITY\n",
              "0  2018-01-02      2718043  Chef`sCounter       헬스기빙   6500         1\n",
              "1  2018-01-02      2271646          우리미각면    의령온메밀국수   6000         1\n",
              "2  2018-01-02      2577432          나폴리폴리  이탈리안포크라이스   6000         1\n",
              "3  2018-01-02      2048428          우리미각면    의령온메밀국수   6000         1\n",
              "4  2018-01-02      2554917        TakeOut         쌈밥   5500         1"
            ]
          },
          "metadata": {
            "tags": []
          },
          "execution_count": 5
        }
      ]
    },
    {
      "cell_type": "code",
      "metadata": {
        "id": "ILCl7IfY8Z-O",
        "colab_type": "code",
        "colab": {
          "base_uri": "https://localhost:8080/",
          "height": 202
        },
        "outputId": "701676e1-a15a-41c3-8627-cd9f34ce421b"
      },
      "source": [
        "cus.head()"
      ],
      "execution_count": 6,
      "outputs": [
        {
          "output_type": "execute_result",
          "data": {
            "text/html": [
              "<div>\n",
              "<style scoped>\n",
              "    .dataframe tbody tr th:only-of-type {\n",
              "        vertical-align: middle;\n",
              "    }\n",
              "\n",
              "    .dataframe tbody tr th {\n",
              "        vertical-align: top;\n",
              "    }\n",
              "\n",
              "    .dataframe thead th {\n",
              "        text-align: right;\n",
              "    }\n",
              "</style>\n",
              "<table border=\"1\" class=\"dataframe\">\n",
              "  <thead>\n",
              "    <tr style=\"text-align: right;\">\n",
              "      <th></th>\n",
              "      <th>CUSTOMER_ID</th>\n",
              "      <th>GENDER</th>\n",
              "      <th>BIRTH_YEAR</th>\n",
              "    </tr>\n",
              "  </thead>\n",
              "  <tbody>\n",
              "    <tr>\n",
              "      <th>0</th>\n",
              "      <td>2111697</td>\n",
              "      <td>남</td>\n",
              "      <td>1969</td>\n",
              "    </tr>\n",
              "    <tr>\n",
              "      <th>1</th>\n",
              "      <td>3571091</td>\n",
              "      <td>남</td>\n",
              "      <td>1964</td>\n",
              "    </tr>\n",
              "    <tr>\n",
              "      <th>2</th>\n",
              "      <td>2111628</td>\n",
              "      <td>남</td>\n",
              "      <td>1967</td>\n",
              "    </tr>\n",
              "    <tr>\n",
              "      <th>3</th>\n",
              "      <td>2259400</td>\n",
              "      <td>남</td>\n",
              "      <td>1974</td>\n",
              "    </tr>\n",
              "    <tr>\n",
              "      <th>4</th>\n",
              "      <td>2010653</td>\n",
              "      <td>남</td>\n",
              "      <td>1975</td>\n",
              "    </tr>\n",
              "  </tbody>\n",
              "</table>\n",
              "</div>"
            ],
            "text/plain": [
              "   CUSTOMER_ID GENDER  BIRTH_YEAR\n",
              "0      2111697      남        1969\n",
              "1      3571091      남        1964\n",
              "2      2111628      남        1967\n",
              "3      2259400      남        1974\n",
              "4      2010653      남        1975"
            ]
          },
          "metadata": {
            "tags": []
          },
          "execution_count": 6
        }
      ]
    },
    {
      "cell_type": "code",
      "metadata": {
        "id": "sMo7aOvI8bLC",
        "colab_type": "code",
        "colab": {
          "base_uri": "https://localhost:8080/",
          "height": 143
        },
        "outputId": "5f8bfcb5-9cc3-42ce-b31b-2e1df8b6b433"
      },
      "source": [
        "meal.isnull().sum()"
      ],
      "execution_count": 7,
      "outputs": [
        {
          "output_type": "execute_result",
          "data": {
            "text/plain": [
              "SELL_DATE      0\n",
              "CUSTOMER_ID    0\n",
              "BRAND          0\n",
              "MENU           0\n",
              "PRICE          0\n",
              "QUANTITY       0\n",
              "dtype: int64"
            ]
          },
          "metadata": {
            "tags": []
          },
          "execution_count": 7
        }
      ]
    },
    {
      "cell_type": "code",
      "metadata": {
        "id": "AQsXL9i98cuG",
        "colab_type": "code",
        "colab": {}
      },
      "source": [
        "meal = meal.dropna()"
      ],
      "execution_count": 0,
      "outputs": []
    },
    {
      "cell_type": "code",
      "metadata": {
        "id": "4PQrPlH38lG1",
        "colab_type": "code",
        "colab": {
          "base_uri": "https://localhost:8080/",
          "height": 143
        },
        "outputId": "2872802a-c59c-4f93-deea-4bf82a0e0ec3"
      },
      "source": [
        "meal.isnull().sum()"
      ],
      "execution_count": 9,
      "outputs": [
        {
          "output_type": "execute_result",
          "data": {
            "text/plain": [
              "SELL_DATE      0\n",
              "CUSTOMER_ID    0\n",
              "BRAND          0\n",
              "MENU           0\n",
              "PRICE          0\n",
              "QUANTITY       0\n",
              "dtype: int64"
            ]
          },
          "metadata": {
            "tags": []
          },
          "execution_count": 9
        }
      ]
    },
    {
      "cell_type": "code",
      "metadata": {
        "id": "wRmsQ7Gy8l39",
        "colab_type": "code",
        "colab": {
          "base_uri": "https://localhost:8080/",
          "height": 89
        },
        "outputId": "641282ff-dd38-454b-a46a-46da532e1be4"
      },
      "source": [
        "cus.isnull().sum()"
      ],
      "execution_count": 10,
      "outputs": [
        {
          "output_type": "execute_result",
          "data": {
            "text/plain": [
              "CUSTOMER_ID    0\n",
              "GENDER         0\n",
              "BIRTH_YEAR     0\n",
              "dtype: int64"
            ]
          },
          "metadata": {
            "tags": []
          },
          "execution_count": 10
        }
      ]
    },
    {
      "cell_type": "code",
      "metadata": {
        "id": "nmLFAury8qwh",
        "colab_type": "code",
        "colab": {}
      },
      "source": [
        "nmeal = pd.merge(meal,cus)"
      ],
      "execution_count": 0,
      "outputs": []
    },
    {
      "cell_type": "code",
      "metadata": {
        "id": "4moOoiwI8tHz",
        "colab_type": "code",
        "colab": {
          "base_uri": "https://localhost:8080/",
          "height": 202
        },
        "outputId": "68c3c53f-6753-4c23-f0d4-fc09beb4720b"
      },
      "source": [
        "nmeal.head()"
      ],
      "execution_count": 12,
      "outputs": [
        {
          "output_type": "execute_result",
          "data": {
            "text/html": [
              "<div>\n",
              "<style scoped>\n",
              "    .dataframe tbody tr th:only-of-type {\n",
              "        vertical-align: middle;\n",
              "    }\n",
              "\n",
              "    .dataframe tbody tr th {\n",
              "        vertical-align: top;\n",
              "    }\n",
              "\n",
              "    .dataframe thead th {\n",
              "        text-align: right;\n",
              "    }\n",
              "</style>\n",
              "<table border=\"1\" class=\"dataframe\">\n",
              "  <thead>\n",
              "    <tr style=\"text-align: right;\">\n",
              "      <th></th>\n",
              "      <th>SELL_DATE</th>\n",
              "      <th>CUSTOMER_ID</th>\n",
              "      <th>BRAND</th>\n",
              "      <th>MENU</th>\n",
              "      <th>PRICE</th>\n",
              "      <th>QUANTITY</th>\n",
              "      <th>GENDER</th>\n",
              "      <th>BIRTH_YEAR</th>\n",
              "    </tr>\n",
              "  </thead>\n",
              "  <tbody>\n",
              "    <tr>\n",
              "      <th>0</th>\n",
              "      <td>2018-01-02</td>\n",
              "      <td>2718043</td>\n",
              "      <td>Chef`sCounter</td>\n",
              "      <td>헬스기빙</td>\n",
              "      <td>6500</td>\n",
              "      <td>1</td>\n",
              "      <td>여</td>\n",
              "      <td>1988</td>\n",
              "    </tr>\n",
              "    <tr>\n",
              "      <th>1</th>\n",
              "      <td>2018-01-04</td>\n",
              "      <td>2718043</td>\n",
              "      <td>Chef`sCounter</td>\n",
              "      <td>헬스기빙</td>\n",
              "      <td>6500</td>\n",
              "      <td>1</td>\n",
              "      <td>여</td>\n",
              "      <td>1988</td>\n",
              "    </tr>\n",
              "    <tr>\n",
              "      <th>2</th>\n",
              "      <td>2018-01-04</td>\n",
              "      <td>2718043</td>\n",
              "      <td>TakeOut</td>\n",
              "      <td>콤보세트</td>\n",
              "      <td>6000</td>\n",
              "      <td>1</td>\n",
              "      <td>여</td>\n",
              "      <td>1988</td>\n",
              "    </tr>\n",
              "    <tr>\n",
              "      <th>3</th>\n",
              "      <td>2018-01-05</td>\n",
              "      <td>2718043</td>\n",
              "      <td>KOREAN2</td>\n",
              "      <td>닭살굴소스볶음</td>\n",
              "      <td>5500</td>\n",
              "      <td>1</td>\n",
              "      <td>여</td>\n",
              "      <td>1988</td>\n",
              "    </tr>\n",
              "    <tr>\n",
              "      <th>4</th>\n",
              "      <td>2018-01-08</td>\n",
              "      <td>2718043</td>\n",
              "      <td>Chef`sCounter</td>\n",
              "      <td>헬시라이트</td>\n",
              "      <td>6000</td>\n",
              "      <td>1</td>\n",
              "      <td>여</td>\n",
              "      <td>1988</td>\n",
              "    </tr>\n",
              "  </tbody>\n",
              "</table>\n",
              "</div>"
            ],
            "text/plain": [
              "    SELL_DATE  CUSTOMER_ID          BRAND  ... QUANTITY  GENDER  BIRTH_YEAR\n",
              "0  2018-01-02      2718043  Chef`sCounter  ...        1       여        1988\n",
              "1  2018-01-04      2718043  Chef`sCounter  ...        1       여        1988\n",
              "2  2018-01-04      2718043        TakeOut  ...        1       여        1988\n",
              "3  2018-01-05      2718043        KOREAN2  ...        1       여        1988\n",
              "4  2018-01-08      2718043  Chef`sCounter  ...        1       여        1988\n",
              "\n",
              "[5 rows x 8 columns]"
            ]
          },
          "metadata": {
            "tags": []
          },
          "execution_count": 12
        }
      ]
    },
    {
      "cell_type": "code",
      "metadata": {
        "id": "IQ1hycDa8uVt",
        "colab_type": "code",
        "colab": {
          "base_uri": "https://localhost:8080/",
          "height": 179
        },
        "outputId": "0a83b559-6f38-45de-c66d-13561d8df4e6"
      },
      "source": [
        "nmeal.isnull().sum()"
      ],
      "execution_count": 13,
      "outputs": [
        {
          "output_type": "execute_result",
          "data": {
            "text/plain": [
              "SELL_DATE      0\n",
              "CUSTOMER_ID    0\n",
              "BRAND          0\n",
              "MENU           0\n",
              "PRICE          0\n",
              "QUANTITY       0\n",
              "GENDER         0\n",
              "BIRTH_YEAR     0\n",
              "dtype: int64"
            ]
          },
          "metadata": {
            "tags": []
          },
          "execution_count": 13
        }
      ]
    },
    {
      "cell_type": "code",
      "metadata": {
        "id": "hEKgskc68vu2",
        "colab_type": "code",
        "colab": {}
      },
      "source": [
        "nmeal=nmeal.drop(columns=['PRICE','QUANTITY'])"
      ],
      "execution_count": 0,
      "outputs": []
    },
    {
      "cell_type": "code",
      "metadata": {
        "id": "i4sxtJUB8xQj",
        "colab_type": "code",
        "colab": {
          "base_uri": "https://localhost:8080/",
          "height": 202
        },
        "outputId": "6a0dec9a-ff41-4c67-8744-36ce8117b45a"
      },
      "source": [
        "nmeal.head()"
      ],
      "execution_count": 15,
      "outputs": [
        {
          "output_type": "execute_result",
          "data": {
            "text/html": [
              "<div>\n",
              "<style scoped>\n",
              "    .dataframe tbody tr th:only-of-type {\n",
              "        vertical-align: middle;\n",
              "    }\n",
              "\n",
              "    .dataframe tbody tr th {\n",
              "        vertical-align: top;\n",
              "    }\n",
              "\n",
              "    .dataframe thead th {\n",
              "        text-align: right;\n",
              "    }\n",
              "</style>\n",
              "<table border=\"1\" class=\"dataframe\">\n",
              "  <thead>\n",
              "    <tr style=\"text-align: right;\">\n",
              "      <th></th>\n",
              "      <th>SELL_DATE</th>\n",
              "      <th>CUSTOMER_ID</th>\n",
              "      <th>BRAND</th>\n",
              "      <th>MENU</th>\n",
              "      <th>GENDER</th>\n",
              "      <th>BIRTH_YEAR</th>\n",
              "    </tr>\n",
              "  </thead>\n",
              "  <tbody>\n",
              "    <tr>\n",
              "      <th>0</th>\n",
              "      <td>2018-01-02</td>\n",
              "      <td>2718043</td>\n",
              "      <td>Chef`sCounter</td>\n",
              "      <td>헬스기빙</td>\n",
              "      <td>여</td>\n",
              "      <td>1988</td>\n",
              "    </tr>\n",
              "    <tr>\n",
              "      <th>1</th>\n",
              "      <td>2018-01-04</td>\n",
              "      <td>2718043</td>\n",
              "      <td>Chef`sCounter</td>\n",
              "      <td>헬스기빙</td>\n",
              "      <td>여</td>\n",
              "      <td>1988</td>\n",
              "    </tr>\n",
              "    <tr>\n",
              "      <th>2</th>\n",
              "      <td>2018-01-04</td>\n",
              "      <td>2718043</td>\n",
              "      <td>TakeOut</td>\n",
              "      <td>콤보세트</td>\n",
              "      <td>여</td>\n",
              "      <td>1988</td>\n",
              "    </tr>\n",
              "    <tr>\n",
              "      <th>3</th>\n",
              "      <td>2018-01-05</td>\n",
              "      <td>2718043</td>\n",
              "      <td>KOREAN2</td>\n",
              "      <td>닭살굴소스볶음</td>\n",
              "      <td>여</td>\n",
              "      <td>1988</td>\n",
              "    </tr>\n",
              "    <tr>\n",
              "      <th>4</th>\n",
              "      <td>2018-01-08</td>\n",
              "      <td>2718043</td>\n",
              "      <td>Chef`sCounter</td>\n",
              "      <td>헬시라이트</td>\n",
              "      <td>여</td>\n",
              "      <td>1988</td>\n",
              "    </tr>\n",
              "  </tbody>\n",
              "</table>\n",
              "</div>"
            ],
            "text/plain": [
              "    SELL_DATE  CUSTOMER_ID          BRAND     MENU GENDER  BIRTH_YEAR\n",
              "0  2018-01-02      2718043  Chef`sCounter     헬스기빙      여        1988\n",
              "1  2018-01-04      2718043  Chef`sCounter     헬스기빙      여        1988\n",
              "2  2018-01-04      2718043        TakeOut     콤보세트      여        1988\n",
              "3  2018-01-05      2718043        KOREAN2  닭살굴소스볶음      여        1988\n",
              "4  2018-01-08      2718043  Chef`sCounter    헬시라이트      여        1988"
            ]
          },
          "metadata": {
            "tags": []
          },
          "execution_count": 15
        }
      ]
    },
    {
      "cell_type": "code",
      "metadata": {
        "id": "5DczQyjW-fmo",
        "colab_type": "code",
        "colab": {}
      },
      "source": [
        "nmeal['SELL_DATE']=pd.to_datetime(nmeal['SELL_DATE'])"
      ],
      "execution_count": 0,
      "outputs": []
    },
    {
      "cell_type": "code",
      "metadata": {
        "id": "RLmD6YHaAYTc",
        "colab_type": "code",
        "colab": {}
      },
      "source": [
        "nmeal['MONTH']= nmeal['SELL_DATE'].dt.strftime('%m')"
      ],
      "execution_count": 0,
      "outputs": []
    },
    {
      "cell_type": "code",
      "metadata": {
        "id": "063rMHkBAfj0",
        "colab_type": "code",
        "colab": {}
      },
      "source": [
        "nmeal['DAY']= nmeal['SELL_DATE'].dt.strftime('%d')"
      ],
      "execution_count": 0,
      "outputs": []
    },
    {
      "cell_type": "code",
      "metadata": {
        "id": "N26hs8VbAwpf",
        "colab_type": "code",
        "colab": {}
      },
      "source": [
        "nmeal['DOW']= nmeal['SELL_DATE'].dt.weekday_name"
      ],
      "execution_count": 0,
      "outputs": []
    },
    {
      "cell_type": "code",
      "metadata": {
        "id": "o1VOTd8vBGZr",
        "colab_type": "code",
        "colab": {}
      },
      "source": [
        "nmeal['YEAR']= nmeal['SELL_DATE'].dt.strftime('%y')"
      ],
      "execution_count": 0,
      "outputs": []
    },
    {
      "cell_type": "code",
      "metadata": {
        "id": "7vEpWrL8BPwZ",
        "colab_type": "code",
        "colab": {}
      },
      "source": [
        "nmeal['AGE']= 2019-nmeal['BIRTH_YEAR']+1"
      ],
      "execution_count": 0,
      "outputs": []
    },
    {
      "cell_type": "code",
      "metadata": {
        "id": "NReyhOffBb-v",
        "colab_type": "code",
        "colab": {
          "base_uri": "https://localhost:8080/",
          "height": 202
        },
        "outputId": "0dc02387-7a27-4007-ee23-46be45d3e564"
      },
      "source": [
        "nmeal.head()"
      ],
      "execution_count": 22,
      "outputs": [
        {
          "output_type": "execute_result",
          "data": {
            "text/html": [
              "<div>\n",
              "<style scoped>\n",
              "    .dataframe tbody tr th:only-of-type {\n",
              "        vertical-align: middle;\n",
              "    }\n",
              "\n",
              "    .dataframe tbody tr th {\n",
              "        vertical-align: top;\n",
              "    }\n",
              "\n",
              "    .dataframe thead th {\n",
              "        text-align: right;\n",
              "    }\n",
              "</style>\n",
              "<table border=\"1\" class=\"dataframe\">\n",
              "  <thead>\n",
              "    <tr style=\"text-align: right;\">\n",
              "      <th></th>\n",
              "      <th>SELL_DATE</th>\n",
              "      <th>CUSTOMER_ID</th>\n",
              "      <th>BRAND</th>\n",
              "      <th>MENU</th>\n",
              "      <th>GENDER</th>\n",
              "      <th>BIRTH_YEAR</th>\n",
              "      <th>MONTH</th>\n",
              "      <th>DAY</th>\n",
              "      <th>DOW</th>\n",
              "      <th>YEAR</th>\n",
              "      <th>AGE</th>\n",
              "    </tr>\n",
              "  </thead>\n",
              "  <tbody>\n",
              "    <tr>\n",
              "      <th>0</th>\n",
              "      <td>2018-01-02</td>\n",
              "      <td>2718043</td>\n",
              "      <td>Chef`sCounter</td>\n",
              "      <td>헬스기빙</td>\n",
              "      <td>여</td>\n",
              "      <td>1988</td>\n",
              "      <td>01</td>\n",
              "      <td>02</td>\n",
              "      <td>Tuesday</td>\n",
              "      <td>18</td>\n",
              "      <td>32</td>\n",
              "    </tr>\n",
              "    <tr>\n",
              "      <th>1</th>\n",
              "      <td>2018-01-04</td>\n",
              "      <td>2718043</td>\n",
              "      <td>Chef`sCounter</td>\n",
              "      <td>헬스기빙</td>\n",
              "      <td>여</td>\n",
              "      <td>1988</td>\n",
              "      <td>01</td>\n",
              "      <td>04</td>\n",
              "      <td>Thursday</td>\n",
              "      <td>18</td>\n",
              "      <td>32</td>\n",
              "    </tr>\n",
              "    <tr>\n",
              "      <th>2</th>\n",
              "      <td>2018-01-04</td>\n",
              "      <td>2718043</td>\n",
              "      <td>TakeOut</td>\n",
              "      <td>콤보세트</td>\n",
              "      <td>여</td>\n",
              "      <td>1988</td>\n",
              "      <td>01</td>\n",
              "      <td>04</td>\n",
              "      <td>Thursday</td>\n",
              "      <td>18</td>\n",
              "      <td>32</td>\n",
              "    </tr>\n",
              "    <tr>\n",
              "      <th>3</th>\n",
              "      <td>2018-01-05</td>\n",
              "      <td>2718043</td>\n",
              "      <td>KOREAN2</td>\n",
              "      <td>닭살굴소스볶음</td>\n",
              "      <td>여</td>\n",
              "      <td>1988</td>\n",
              "      <td>01</td>\n",
              "      <td>05</td>\n",
              "      <td>Friday</td>\n",
              "      <td>18</td>\n",
              "      <td>32</td>\n",
              "    </tr>\n",
              "    <tr>\n",
              "      <th>4</th>\n",
              "      <td>2018-01-08</td>\n",
              "      <td>2718043</td>\n",
              "      <td>Chef`sCounter</td>\n",
              "      <td>헬시라이트</td>\n",
              "      <td>여</td>\n",
              "      <td>1988</td>\n",
              "      <td>01</td>\n",
              "      <td>08</td>\n",
              "      <td>Monday</td>\n",
              "      <td>18</td>\n",
              "      <td>32</td>\n",
              "    </tr>\n",
              "  </tbody>\n",
              "</table>\n",
              "</div>"
            ],
            "text/plain": [
              "   SELL_DATE  CUSTOMER_ID          BRAND     MENU  ... DAY       DOW YEAR AGE\n",
              "0 2018-01-02      2718043  Chef`sCounter     헬스기빙  ...  02   Tuesday   18  32\n",
              "1 2018-01-04      2718043  Chef`sCounter     헬스기빙  ...  04  Thursday   18  32\n",
              "2 2018-01-04      2718043        TakeOut     콤보세트  ...  04  Thursday   18  32\n",
              "3 2018-01-05      2718043        KOREAN2  닭살굴소스볶음  ...  05    Friday   18  32\n",
              "4 2018-01-08      2718043  Chef`sCounter    헬시라이트  ...  08    Monday   18  32\n",
              "\n",
              "[5 rows x 11 columns]"
            ]
          },
          "metadata": {
            "tags": []
          },
          "execution_count": 22
        }
      ]
    },
    {
      "cell_type": "code",
      "metadata": {
        "id": "cTEPVIcaBvif",
        "colab_type": "code",
        "colab": {}
      },
      "source": [
        "nmeal=nmeal.drop(columns=['SELL_DATE','BIRTH_YEAR'])"
      ],
      "execution_count": 0,
      "outputs": []
    },
    {
      "cell_type": "code",
      "metadata": {
        "id": "UijXkF5jB9a3",
        "colab_type": "code",
        "colab": {}
      },
      "source": [
        "nmeal['CUSTOMER_ID']=nmeal['CUSTOMER_ID'].astype('int')\n",
        "nmeal['YEAR']=nmeal['YEAR'].astype('int')"
      ],
      "execution_count": 0,
      "outputs": []
    },
    {
      "cell_type": "code",
      "metadata": {
        "id": "Q2EKc-dZB4Df",
        "colab_type": "code",
        "outputId": "ff7de5c9-b53d-4687-c0f1-cbb239eb98bc",
        "colab": {
          "base_uri": "https://localhost:8080/",
          "height": 197
        }
      },
      "source": [
        "nmeal.dtypes"
      ],
      "execution_count": 25,
      "outputs": [
        {
          "output_type": "execute_result",
          "data": {
            "text/plain": [
              "CUSTOMER_ID     int64\n",
              "BRAND          object\n",
              "MENU           object\n",
              "GENDER         object\n",
              "MONTH          object\n",
              "DAY            object\n",
              "DOW            object\n",
              "YEAR            int64\n",
              "AGE             int64\n",
              "dtype: object"
            ]
          },
          "metadata": {
            "tags": []
          },
          "execution_count": 25
        }
      ]
    },
    {
      "cell_type": "code",
      "metadata": {
        "id": "pzEblx93HqwO",
        "colab_type": "code",
        "outputId": "b588431b-7991-4f2b-fe60-0422d4e40566",
        "colab": {
          "base_uri": "https://localhost:8080/",
          "height": 202
        }
      },
      "source": [
        "nmeal.head()"
      ],
      "execution_count": 26,
      "outputs": [
        {
          "output_type": "execute_result",
          "data": {
            "text/html": [
              "<div>\n",
              "<style scoped>\n",
              "    .dataframe tbody tr th:only-of-type {\n",
              "        vertical-align: middle;\n",
              "    }\n",
              "\n",
              "    .dataframe tbody tr th {\n",
              "        vertical-align: top;\n",
              "    }\n",
              "\n",
              "    .dataframe thead th {\n",
              "        text-align: right;\n",
              "    }\n",
              "</style>\n",
              "<table border=\"1\" class=\"dataframe\">\n",
              "  <thead>\n",
              "    <tr style=\"text-align: right;\">\n",
              "      <th></th>\n",
              "      <th>CUSTOMER_ID</th>\n",
              "      <th>BRAND</th>\n",
              "      <th>MENU</th>\n",
              "      <th>GENDER</th>\n",
              "      <th>MONTH</th>\n",
              "      <th>DAY</th>\n",
              "      <th>DOW</th>\n",
              "      <th>YEAR</th>\n",
              "      <th>AGE</th>\n",
              "    </tr>\n",
              "  </thead>\n",
              "  <tbody>\n",
              "    <tr>\n",
              "      <th>0</th>\n",
              "      <td>2718043</td>\n",
              "      <td>Chef`sCounter</td>\n",
              "      <td>헬스기빙</td>\n",
              "      <td>여</td>\n",
              "      <td>01</td>\n",
              "      <td>02</td>\n",
              "      <td>Tuesday</td>\n",
              "      <td>18</td>\n",
              "      <td>32</td>\n",
              "    </tr>\n",
              "    <tr>\n",
              "      <th>1</th>\n",
              "      <td>2718043</td>\n",
              "      <td>Chef`sCounter</td>\n",
              "      <td>헬스기빙</td>\n",
              "      <td>여</td>\n",
              "      <td>01</td>\n",
              "      <td>04</td>\n",
              "      <td>Thursday</td>\n",
              "      <td>18</td>\n",
              "      <td>32</td>\n",
              "    </tr>\n",
              "    <tr>\n",
              "      <th>2</th>\n",
              "      <td>2718043</td>\n",
              "      <td>TakeOut</td>\n",
              "      <td>콤보세트</td>\n",
              "      <td>여</td>\n",
              "      <td>01</td>\n",
              "      <td>04</td>\n",
              "      <td>Thursday</td>\n",
              "      <td>18</td>\n",
              "      <td>32</td>\n",
              "    </tr>\n",
              "    <tr>\n",
              "      <th>3</th>\n",
              "      <td>2718043</td>\n",
              "      <td>KOREAN2</td>\n",
              "      <td>닭살굴소스볶음</td>\n",
              "      <td>여</td>\n",
              "      <td>01</td>\n",
              "      <td>05</td>\n",
              "      <td>Friday</td>\n",
              "      <td>18</td>\n",
              "      <td>32</td>\n",
              "    </tr>\n",
              "    <tr>\n",
              "      <th>4</th>\n",
              "      <td>2718043</td>\n",
              "      <td>Chef`sCounter</td>\n",
              "      <td>헬시라이트</td>\n",
              "      <td>여</td>\n",
              "      <td>01</td>\n",
              "      <td>08</td>\n",
              "      <td>Monday</td>\n",
              "      <td>18</td>\n",
              "      <td>32</td>\n",
              "    </tr>\n",
              "  </tbody>\n",
              "</table>\n",
              "</div>"
            ],
            "text/plain": [
              "   CUSTOMER_ID          BRAND     MENU GENDER MONTH DAY       DOW  YEAR  AGE\n",
              "0      2718043  Chef`sCounter     헬스기빙      여    01  02   Tuesday    18   32\n",
              "1      2718043  Chef`sCounter     헬스기빙      여    01  04  Thursday    18   32\n",
              "2      2718043        TakeOut     콤보세트      여    01  04  Thursday    18   32\n",
              "3      2718043        KOREAN2  닭살굴소스볶음      여    01  05    Friday    18   32\n",
              "4      2718043  Chef`sCounter    헬시라이트      여    01  08    Monday    18   32"
            ]
          },
          "metadata": {
            "tags": []
          },
          "execution_count": 26
        }
      ]
    },
    {
      "cell_type": "code",
      "metadata": {
        "id": "88S1Zm3T8zHV",
        "colab_type": "code",
        "colab": {}
      },
      "source": [
        "train = nmeal.sample(frac=0.8)\n",
        "valid = nmeal.drop(index=train.index)"
      ],
      "execution_count": 0,
      "outputs": []
    },
    {
      "cell_type": "code",
      "metadata": {
        "id": "Ojk1zDGv86lS",
        "colab_type": "code",
        "colab": {}
      },
      "source": [
        "train_x = train.drop(columns=['BRAND'])"
      ],
      "execution_count": 0,
      "outputs": []
    },
    {
      "cell_type": "code",
      "metadata": {
        "id": "0ZQiUn0hKk9t",
        "colab_type": "code",
        "colab": {}
      },
      "source": [
        "train_x=pd.get_dummies(train_x)"
      ],
      "execution_count": 0,
      "outputs": []
    },
    {
      "cell_type": "code",
      "metadata": {
        "id": "GJz99Lsk9ISM",
        "colab_type": "code",
        "outputId": "a41a8e5e-3701-434f-92fe-df388cf586be",
        "colab": {
          "base_uri": "https://localhost:8080/",
          "height": 338
        }
      },
      "source": [
        "train_x.head()"
      ],
      "execution_count": 30,
      "outputs": [
        {
          "output_type": "execute_result",
          "data": {
            "text/html": [
              "<div>\n",
              "<style scoped>\n",
              "    .dataframe tbody tr th:only-of-type {\n",
              "        vertical-align: middle;\n",
              "    }\n",
              "\n",
              "    .dataframe tbody tr th {\n",
              "        vertical-align: top;\n",
              "    }\n",
              "\n",
              "    .dataframe thead th {\n",
              "        text-align: right;\n",
              "    }\n",
              "</style>\n",
              "<table border=\"1\" class=\"dataframe\">\n",
              "  <thead>\n",
              "    <tr style=\"text-align: right;\">\n",
              "      <th></th>\n",
              "      <th>CUSTOMER_ID</th>\n",
              "      <th>YEAR</th>\n",
              "      <th>AGE</th>\n",
              "      <th>MENU_3종선택과일</th>\n",
              "      <th>MENU_4종모듬튀김</th>\n",
              "      <th>MENU_HOTTOGO</th>\n",
              "      <th>MENU_[특식]닭다리짬뽕</th>\n",
              "      <th>MENU_[특식]돈목살스테이크비빔밥</th>\n",
              "      <th>MENU_[특식]보쌈&amp;막국수</th>\n",
              "      <th>MENU_[특식]새우퐁듀&amp;빵</th>\n",
              "      <th>MENU_[특식]아보카도연어덮밥</th>\n",
              "      <th>MENU_[특식]전복삼계탕</th>\n",
              "      <th>MENU_[특식]차돌양지쌀국수</th>\n",
              "      <th>MENU_[특식]하프&amp;하프피자</th>\n",
              "      <th>MENU_[특식]흑돼지안심구이쌈밥</th>\n",
              "      <th>MENU_가리산막국수</th>\n",
              "      <th>MENU_가마솥황태곰탕</th>\n",
              "      <th>MENU_가야밀면</th>\n",
              "      <th>MENU_가지어향소스덮밥</th>\n",
              "      <th>MENU_가츠히야시소바</th>\n",
              "      <th>MENU_간자장면</th>\n",
              "      <th>MENU_갈릭돈가스</th>\n",
              "      <th>MENU_갈릭돈목살스테이크</th>\n",
              "      <th>MENU_갈릭스노윙피자</th>\n",
              "      <th>MENU_갈치구이</th>\n",
              "      <th>MENU_갓김치크림파스타</th>\n",
              "      <th>MENU_강된장비빔밥</th>\n",
              "      <th>MENU_개성왕만두국</th>\n",
              "      <th>MENU_건새우들깨칼국수</th>\n",
              "      <th>MENU_검은콩국수</th>\n",
              "      <th>MENU_계란순두부찌개</th>\n",
              "      <th>MENU_고구마돈가스</th>\n",
              "      <th>MENU_고구마조각피자</th>\n",
              "      <th>MENU_고등어구이</th>\n",
              "      <th>MENU_고등어카레구이</th>\n",
              "      <th>MENU_고르곤졸라피자</th>\n",
              "      <th>MENU_고추멸치말이</th>\n",
              "      <th>MENU_고추잡채덮밥</th>\n",
              "      <th>MENU_고추장크림파스타</th>\n",
              "      <th>MENU_고추짬뽕</th>\n",
              "      <th>...</th>\n",
              "      <th>MONTH_10</th>\n",
              "      <th>MONTH_11</th>\n",
              "      <th>MONTH_12</th>\n",
              "      <th>DAY_01</th>\n",
              "      <th>DAY_02</th>\n",
              "      <th>DAY_03</th>\n",
              "      <th>DAY_04</th>\n",
              "      <th>DAY_05</th>\n",
              "      <th>DAY_06</th>\n",
              "      <th>DAY_07</th>\n",
              "      <th>DAY_08</th>\n",
              "      <th>DAY_09</th>\n",
              "      <th>DAY_10</th>\n",
              "      <th>DAY_11</th>\n",
              "      <th>DAY_12</th>\n",
              "      <th>DAY_13</th>\n",
              "      <th>DAY_14</th>\n",
              "      <th>DAY_15</th>\n",
              "      <th>DAY_16</th>\n",
              "      <th>DAY_17</th>\n",
              "      <th>DAY_18</th>\n",
              "      <th>DAY_19</th>\n",
              "      <th>DAY_20</th>\n",
              "      <th>DAY_21</th>\n",
              "      <th>DAY_22</th>\n",
              "      <th>DAY_23</th>\n",
              "      <th>DAY_24</th>\n",
              "      <th>DAY_25</th>\n",
              "      <th>DAY_26</th>\n",
              "      <th>DAY_27</th>\n",
              "      <th>DAY_28</th>\n",
              "      <th>DAY_29</th>\n",
              "      <th>DAY_30</th>\n",
              "      <th>DAY_31</th>\n",
              "      <th>DOW_Friday</th>\n",
              "      <th>DOW_Monday</th>\n",
              "      <th>DOW_Saturday</th>\n",
              "      <th>DOW_Thursday</th>\n",
              "      <th>DOW_Tuesday</th>\n",
              "      <th>DOW_Wednesday</th>\n",
              "    </tr>\n",
              "  </thead>\n",
              "  <tbody>\n",
              "    <tr>\n",
              "      <th>594137</th>\n",
              "      <td>2718002</td>\n",
              "      <td>18</td>\n",
              "      <td>31</td>\n",
              "      <td>0</td>\n",
              "      <td>0</td>\n",
              "      <td>0</td>\n",
              "      <td>0</td>\n",
              "      <td>0</td>\n",
              "      <td>0</td>\n",
              "      <td>0</td>\n",
              "      <td>0</td>\n",
              "      <td>0</td>\n",
              "      <td>0</td>\n",
              "      <td>0</td>\n",
              "      <td>0</td>\n",
              "      <td>0</td>\n",
              "      <td>0</td>\n",
              "      <td>0</td>\n",
              "      <td>0</td>\n",
              "      <td>0</td>\n",
              "      <td>0</td>\n",
              "      <td>0</td>\n",
              "      <td>0</td>\n",
              "      <td>0</td>\n",
              "      <td>0</td>\n",
              "      <td>0</td>\n",
              "      <td>0</td>\n",
              "      <td>0</td>\n",
              "      <td>0</td>\n",
              "      <td>0</td>\n",
              "      <td>0</td>\n",
              "      <td>0</td>\n",
              "      <td>0</td>\n",
              "      <td>0</td>\n",
              "      <td>0</td>\n",
              "      <td>0</td>\n",
              "      <td>0</td>\n",
              "      <td>0</td>\n",
              "      <td>0</td>\n",
              "      <td>0</td>\n",
              "      <td>...</td>\n",
              "      <td>0</td>\n",
              "      <td>0</td>\n",
              "      <td>0</td>\n",
              "      <td>0</td>\n",
              "      <td>0</td>\n",
              "      <td>0</td>\n",
              "      <td>0</td>\n",
              "      <td>0</td>\n",
              "      <td>0</td>\n",
              "      <td>0</td>\n",
              "      <td>0</td>\n",
              "      <td>0</td>\n",
              "      <td>0</td>\n",
              "      <td>0</td>\n",
              "      <td>0</td>\n",
              "      <td>0</td>\n",
              "      <td>0</td>\n",
              "      <td>0</td>\n",
              "      <td>0</td>\n",
              "      <td>0</td>\n",
              "      <td>0</td>\n",
              "      <td>0</td>\n",
              "      <td>0</td>\n",
              "      <td>0</td>\n",
              "      <td>0</td>\n",
              "      <td>0</td>\n",
              "      <td>0</td>\n",
              "      <td>0</td>\n",
              "      <td>0</td>\n",
              "      <td>0</td>\n",
              "      <td>0</td>\n",
              "      <td>0</td>\n",
              "      <td>0</td>\n",
              "      <td>1</td>\n",
              "      <td>0</td>\n",
              "      <td>0</td>\n",
              "      <td>0</td>\n",
              "      <td>1</td>\n",
              "      <td>0</td>\n",
              "      <td>0</td>\n",
              "    </tr>\n",
              "    <tr>\n",
              "      <th>765543</th>\n",
              "      <td>2139059</td>\n",
              "      <td>18</td>\n",
              "      <td>40</td>\n",
              "      <td>0</td>\n",
              "      <td>0</td>\n",
              "      <td>0</td>\n",
              "      <td>0</td>\n",
              "      <td>0</td>\n",
              "      <td>0</td>\n",
              "      <td>0</td>\n",
              "      <td>0</td>\n",
              "      <td>0</td>\n",
              "      <td>0</td>\n",
              "      <td>0</td>\n",
              "      <td>0</td>\n",
              "      <td>0</td>\n",
              "      <td>0</td>\n",
              "      <td>0</td>\n",
              "      <td>0</td>\n",
              "      <td>0</td>\n",
              "      <td>0</td>\n",
              "      <td>0</td>\n",
              "      <td>0</td>\n",
              "      <td>0</td>\n",
              "      <td>0</td>\n",
              "      <td>0</td>\n",
              "      <td>0</td>\n",
              "      <td>0</td>\n",
              "      <td>0</td>\n",
              "      <td>0</td>\n",
              "      <td>0</td>\n",
              "      <td>0</td>\n",
              "      <td>0</td>\n",
              "      <td>0</td>\n",
              "      <td>0</td>\n",
              "      <td>0</td>\n",
              "      <td>0</td>\n",
              "      <td>0</td>\n",
              "      <td>0</td>\n",
              "      <td>0</td>\n",
              "      <td>...</td>\n",
              "      <td>0</td>\n",
              "      <td>0</td>\n",
              "      <td>0</td>\n",
              "      <td>0</td>\n",
              "      <td>0</td>\n",
              "      <td>0</td>\n",
              "      <td>0</td>\n",
              "      <td>0</td>\n",
              "      <td>0</td>\n",
              "      <td>0</td>\n",
              "      <td>0</td>\n",
              "      <td>0</td>\n",
              "      <td>0</td>\n",
              "      <td>0</td>\n",
              "      <td>0</td>\n",
              "      <td>0</td>\n",
              "      <td>0</td>\n",
              "      <td>0</td>\n",
              "      <td>0</td>\n",
              "      <td>0</td>\n",
              "      <td>0</td>\n",
              "      <td>0</td>\n",
              "      <td>0</td>\n",
              "      <td>0</td>\n",
              "      <td>0</td>\n",
              "      <td>0</td>\n",
              "      <td>0</td>\n",
              "      <td>0</td>\n",
              "      <td>0</td>\n",
              "      <td>1</td>\n",
              "      <td>0</td>\n",
              "      <td>0</td>\n",
              "      <td>0</td>\n",
              "      <td>0</td>\n",
              "      <td>0</td>\n",
              "      <td>0</td>\n",
              "      <td>0</td>\n",
              "      <td>1</td>\n",
              "      <td>0</td>\n",
              "      <td>0</td>\n",
              "    </tr>\n",
              "    <tr>\n",
              "      <th>843088</th>\n",
              "      <td>3161579</td>\n",
              "      <td>18</td>\n",
              "      <td>41</td>\n",
              "      <td>0</td>\n",
              "      <td>0</td>\n",
              "      <td>0</td>\n",
              "      <td>0</td>\n",
              "      <td>0</td>\n",
              "      <td>0</td>\n",
              "      <td>0</td>\n",
              "      <td>0</td>\n",
              "      <td>0</td>\n",
              "      <td>0</td>\n",
              "      <td>0</td>\n",
              "      <td>0</td>\n",
              "      <td>0</td>\n",
              "      <td>0</td>\n",
              "      <td>0</td>\n",
              "      <td>0</td>\n",
              "      <td>0</td>\n",
              "      <td>0</td>\n",
              "      <td>0</td>\n",
              "      <td>0</td>\n",
              "      <td>0</td>\n",
              "      <td>0</td>\n",
              "      <td>0</td>\n",
              "      <td>0</td>\n",
              "      <td>0</td>\n",
              "      <td>0</td>\n",
              "      <td>0</td>\n",
              "      <td>0</td>\n",
              "      <td>0</td>\n",
              "      <td>0</td>\n",
              "      <td>0</td>\n",
              "      <td>0</td>\n",
              "      <td>0</td>\n",
              "      <td>0</td>\n",
              "      <td>0</td>\n",
              "      <td>0</td>\n",
              "      <td>0</td>\n",
              "      <td>...</td>\n",
              "      <td>0</td>\n",
              "      <td>0</td>\n",
              "      <td>1</td>\n",
              "      <td>0</td>\n",
              "      <td>0</td>\n",
              "      <td>0</td>\n",
              "      <td>0</td>\n",
              "      <td>0</td>\n",
              "      <td>0</td>\n",
              "      <td>0</td>\n",
              "      <td>0</td>\n",
              "      <td>0</td>\n",
              "      <td>0</td>\n",
              "      <td>0</td>\n",
              "      <td>0</td>\n",
              "      <td>0</td>\n",
              "      <td>0</td>\n",
              "      <td>0</td>\n",
              "      <td>0</td>\n",
              "      <td>0</td>\n",
              "      <td>0</td>\n",
              "      <td>0</td>\n",
              "      <td>0</td>\n",
              "      <td>0</td>\n",
              "      <td>0</td>\n",
              "      <td>0</td>\n",
              "      <td>0</td>\n",
              "      <td>0</td>\n",
              "      <td>0</td>\n",
              "      <td>0</td>\n",
              "      <td>1</td>\n",
              "      <td>0</td>\n",
              "      <td>0</td>\n",
              "      <td>0</td>\n",
              "      <td>1</td>\n",
              "      <td>0</td>\n",
              "      <td>0</td>\n",
              "      <td>0</td>\n",
              "      <td>0</td>\n",
              "      <td>0</td>\n",
              "    </tr>\n",
              "    <tr>\n",
              "      <th>334280</th>\n",
              "      <td>2677530</td>\n",
              "      <td>18</td>\n",
              "      <td>39</td>\n",
              "      <td>0</td>\n",
              "      <td>0</td>\n",
              "      <td>0</td>\n",
              "      <td>0</td>\n",
              "      <td>0</td>\n",
              "      <td>0</td>\n",
              "      <td>0</td>\n",
              "      <td>0</td>\n",
              "      <td>0</td>\n",
              "      <td>0</td>\n",
              "      <td>0</td>\n",
              "      <td>0</td>\n",
              "      <td>0</td>\n",
              "      <td>0</td>\n",
              "      <td>0</td>\n",
              "      <td>0</td>\n",
              "      <td>0</td>\n",
              "      <td>0</td>\n",
              "      <td>0</td>\n",
              "      <td>0</td>\n",
              "      <td>0</td>\n",
              "      <td>0</td>\n",
              "      <td>0</td>\n",
              "      <td>0</td>\n",
              "      <td>0</td>\n",
              "      <td>0</td>\n",
              "      <td>0</td>\n",
              "      <td>0</td>\n",
              "      <td>0</td>\n",
              "      <td>0</td>\n",
              "      <td>0</td>\n",
              "      <td>0</td>\n",
              "      <td>0</td>\n",
              "      <td>0</td>\n",
              "      <td>0</td>\n",
              "      <td>0</td>\n",
              "      <td>0</td>\n",
              "      <td>...</td>\n",
              "      <td>0</td>\n",
              "      <td>0</td>\n",
              "      <td>0</td>\n",
              "      <td>0</td>\n",
              "      <td>0</td>\n",
              "      <td>0</td>\n",
              "      <td>0</td>\n",
              "      <td>0</td>\n",
              "      <td>0</td>\n",
              "      <td>0</td>\n",
              "      <td>0</td>\n",
              "      <td>0</td>\n",
              "      <td>0</td>\n",
              "      <td>0</td>\n",
              "      <td>0</td>\n",
              "      <td>0</td>\n",
              "      <td>0</td>\n",
              "      <td>0</td>\n",
              "      <td>0</td>\n",
              "      <td>0</td>\n",
              "      <td>0</td>\n",
              "      <td>0</td>\n",
              "      <td>0</td>\n",
              "      <td>1</td>\n",
              "      <td>0</td>\n",
              "      <td>0</td>\n",
              "      <td>0</td>\n",
              "      <td>0</td>\n",
              "      <td>0</td>\n",
              "      <td>0</td>\n",
              "      <td>0</td>\n",
              "      <td>0</td>\n",
              "      <td>0</td>\n",
              "      <td>0</td>\n",
              "      <td>0</td>\n",
              "      <td>1</td>\n",
              "      <td>0</td>\n",
              "      <td>0</td>\n",
              "      <td>0</td>\n",
              "      <td>0</td>\n",
              "    </tr>\n",
              "    <tr>\n",
              "      <th>754194</th>\n",
              "      <td>2718128</td>\n",
              "      <td>18</td>\n",
              "      <td>34</td>\n",
              "      <td>0</td>\n",
              "      <td>0</td>\n",
              "      <td>0</td>\n",
              "      <td>0</td>\n",
              "      <td>0</td>\n",
              "      <td>0</td>\n",
              "      <td>0</td>\n",
              "      <td>0</td>\n",
              "      <td>0</td>\n",
              "      <td>0</td>\n",
              "      <td>0</td>\n",
              "      <td>0</td>\n",
              "      <td>0</td>\n",
              "      <td>0</td>\n",
              "      <td>0</td>\n",
              "      <td>0</td>\n",
              "      <td>0</td>\n",
              "      <td>0</td>\n",
              "      <td>0</td>\n",
              "      <td>0</td>\n",
              "      <td>0</td>\n",
              "      <td>0</td>\n",
              "      <td>0</td>\n",
              "      <td>0</td>\n",
              "      <td>0</td>\n",
              "      <td>0</td>\n",
              "      <td>0</td>\n",
              "      <td>0</td>\n",
              "      <td>0</td>\n",
              "      <td>0</td>\n",
              "      <td>0</td>\n",
              "      <td>0</td>\n",
              "      <td>0</td>\n",
              "      <td>0</td>\n",
              "      <td>0</td>\n",
              "      <td>0</td>\n",
              "      <td>1</td>\n",
              "      <td>...</td>\n",
              "      <td>0</td>\n",
              "      <td>1</td>\n",
              "      <td>0</td>\n",
              "      <td>0</td>\n",
              "      <td>0</td>\n",
              "      <td>0</td>\n",
              "      <td>0</td>\n",
              "      <td>0</td>\n",
              "      <td>0</td>\n",
              "      <td>1</td>\n",
              "      <td>0</td>\n",
              "      <td>0</td>\n",
              "      <td>0</td>\n",
              "      <td>0</td>\n",
              "      <td>0</td>\n",
              "      <td>0</td>\n",
              "      <td>0</td>\n",
              "      <td>0</td>\n",
              "      <td>0</td>\n",
              "      <td>0</td>\n",
              "      <td>0</td>\n",
              "      <td>0</td>\n",
              "      <td>0</td>\n",
              "      <td>0</td>\n",
              "      <td>0</td>\n",
              "      <td>0</td>\n",
              "      <td>0</td>\n",
              "      <td>0</td>\n",
              "      <td>0</td>\n",
              "      <td>0</td>\n",
              "      <td>0</td>\n",
              "      <td>0</td>\n",
              "      <td>0</td>\n",
              "      <td>0</td>\n",
              "      <td>0</td>\n",
              "      <td>0</td>\n",
              "      <td>0</td>\n",
              "      <td>0</td>\n",
              "      <td>0</td>\n",
              "      <td>1</td>\n",
              "    </tr>\n",
              "  </tbody>\n",
              "</table>\n",
              "<p>5 rows × 614 columns</p>\n",
              "</div>"
            ],
            "text/plain": [
              "        CUSTOMER_ID  YEAR  AGE  ...  DOW_Thursday  DOW_Tuesday  DOW_Wednesday\n",
              "594137      2718002    18   31  ...             1            0              0\n",
              "765543      2139059    18   40  ...             1            0              0\n",
              "843088      3161579    18   41  ...             0            0              0\n",
              "334280      2677530    18   39  ...             0            0              0\n",
              "754194      2718128    18   34  ...             0            0              1\n",
              "\n",
              "[5 rows x 614 columns]"
            ]
          },
          "metadata": {
            "tags": []
          },
          "execution_count": 30
        }
      ]
    },
    {
      "cell_type": "code",
      "metadata": {
        "id": "Ln3rnsBkLQGI",
        "colab_type": "code",
        "colab": {}
      },
      "source": [
        "train_y=train['BRAND']"
      ],
      "execution_count": 0,
      "outputs": []
    },
    {
      "cell_type": "code",
      "metadata": {
        "id": "aFsRo0T_M6fy",
        "colab_type": "code",
        "outputId": "dd4300f6-8d8c-404a-d40c-701b95583477",
        "colab": {
          "base_uri": "https://localhost:8080/",
          "height": 197
        }
      },
      "source": [
        "valid.dtypes"
      ],
      "execution_count": 32,
      "outputs": [
        {
          "output_type": "execute_result",
          "data": {
            "text/plain": [
              "CUSTOMER_ID     int64\n",
              "BRAND          object\n",
              "MENU           object\n",
              "GENDER         object\n",
              "MONTH          object\n",
              "DAY            object\n",
              "DOW            object\n",
              "YEAR            int64\n",
              "AGE             int64\n",
              "dtype: object"
            ]
          },
          "metadata": {
            "tags": []
          },
          "execution_count": 32
        }
      ]
    },
    {
      "cell_type": "code",
      "metadata": {
        "id": "Z1uij7c59OsV",
        "colab_type": "code",
        "colab": {}
      },
      "source": [
        "valid_x=valid.drop(columns=['BRAND'])\n",
        "valid_y=valid['BRAND']"
      ],
      "execution_count": 0,
      "outputs": []
    },
    {
      "cell_type": "code",
      "metadata": {
        "id": "GmnnClxd9okp",
        "colab_type": "code",
        "colab": {}
      },
      "source": [
        "valid_x=pd.get_dummies(valid_x)"
      ],
      "execution_count": 0,
      "outputs": []
    },
    {
      "cell_type": "code",
      "metadata": {
        "id": "sJoDFie3K2pt",
        "colab_type": "code",
        "outputId": "025cefe0-8aae-47b8-ed71-c9a01f1475ad",
        "colab": {
          "base_uri": "https://localhost:8080/",
          "height": 338
        }
      },
      "source": [
        "valid_x.head()"
      ],
      "execution_count": 35,
      "outputs": [
        {
          "output_type": "execute_result",
          "data": {
            "text/html": [
              "<div>\n",
              "<style scoped>\n",
              "    .dataframe tbody tr th:only-of-type {\n",
              "        vertical-align: middle;\n",
              "    }\n",
              "\n",
              "    .dataframe tbody tr th {\n",
              "        vertical-align: top;\n",
              "    }\n",
              "\n",
              "    .dataframe thead th {\n",
              "        text-align: right;\n",
              "    }\n",
              "</style>\n",
              "<table border=\"1\" class=\"dataframe\">\n",
              "  <thead>\n",
              "    <tr style=\"text-align: right;\">\n",
              "      <th></th>\n",
              "      <th>CUSTOMER_ID</th>\n",
              "      <th>YEAR</th>\n",
              "      <th>AGE</th>\n",
              "      <th>MENU_3종선택과일</th>\n",
              "      <th>MENU_4종모듬튀김</th>\n",
              "      <th>MENU_HOTTOGO</th>\n",
              "      <th>MENU_[특식]닭다리짬뽕</th>\n",
              "      <th>MENU_[특식]돈목살스테이크비빔밥</th>\n",
              "      <th>MENU_[특식]보쌈&amp;막국수</th>\n",
              "      <th>MENU_[특식]새우퐁듀&amp;빵</th>\n",
              "      <th>MENU_[특식]아보카도연어덮밥</th>\n",
              "      <th>MENU_[특식]전복삼계탕</th>\n",
              "      <th>MENU_[특식]차돌양지쌀국수</th>\n",
              "      <th>MENU_[특식]하프&amp;하프피자</th>\n",
              "      <th>MENU_[특식]흑돼지안심구이쌈밥</th>\n",
              "      <th>MENU_가리산막국수</th>\n",
              "      <th>MENU_가마솥황태곰탕</th>\n",
              "      <th>MENU_가야밀면</th>\n",
              "      <th>MENU_가지어향소스덮밥</th>\n",
              "      <th>MENU_가츠히야시소바</th>\n",
              "      <th>MENU_간자장면</th>\n",
              "      <th>MENU_갈릭돈가스</th>\n",
              "      <th>MENU_갈릭돈목살스테이크</th>\n",
              "      <th>MENU_갈릭스노윙피자</th>\n",
              "      <th>MENU_갈치구이</th>\n",
              "      <th>MENU_갓김치크림파스타</th>\n",
              "      <th>MENU_강된장비빔밥</th>\n",
              "      <th>MENU_개성왕만두국</th>\n",
              "      <th>MENU_건새우들깨칼국수</th>\n",
              "      <th>MENU_검은콩국수</th>\n",
              "      <th>MENU_계란순두부찌개</th>\n",
              "      <th>MENU_고구마돈가스</th>\n",
              "      <th>MENU_고구마조각피자</th>\n",
              "      <th>MENU_고등어구이</th>\n",
              "      <th>MENU_고등어카레구이</th>\n",
              "      <th>MENU_고르곤졸라피자</th>\n",
              "      <th>MENU_고추멸치말이</th>\n",
              "      <th>MENU_고추잡채덮밥</th>\n",
              "      <th>MENU_고추장크림파스타</th>\n",
              "      <th>MENU_고추짬뽕</th>\n",
              "      <th>...</th>\n",
              "      <th>MONTH_10</th>\n",
              "      <th>MONTH_11</th>\n",
              "      <th>MONTH_12</th>\n",
              "      <th>DAY_01</th>\n",
              "      <th>DAY_02</th>\n",
              "      <th>DAY_03</th>\n",
              "      <th>DAY_04</th>\n",
              "      <th>DAY_05</th>\n",
              "      <th>DAY_06</th>\n",
              "      <th>DAY_07</th>\n",
              "      <th>DAY_08</th>\n",
              "      <th>DAY_09</th>\n",
              "      <th>DAY_10</th>\n",
              "      <th>DAY_11</th>\n",
              "      <th>DAY_12</th>\n",
              "      <th>DAY_13</th>\n",
              "      <th>DAY_14</th>\n",
              "      <th>DAY_15</th>\n",
              "      <th>DAY_16</th>\n",
              "      <th>DAY_17</th>\n",
              "      <th>DAY_18</th>\n",
              "      <th>DAY_19</th>\n",
              "      <th>DAY_20</th>\n",
              "      <th>DAY_21</th>\n",
              "      <th>DAY_22</th>\n",
              "      <th>DAY_23</th>\n",
              "      <th>DAY_24</th>\n",
              "      <th>DAY_25</th>\n",
              "      <th>DAY_26</th>\n",
              "      <th>DAY_27</th>\n",
              "      <th>DAY_28</th>\n",
              "      <th>DAY_29</th>\n",
              "      <th>DAY_30</th>\n",
              "      <th>DAY_31</th>\n",
              "      <th>DOW_Friday</th>\n",
              "      <th>DOW_Monday</th>\n",
              "      <th>DOW_Saturday</th>\n",
              "      <th>DOW_Thursday</th>\n",
              "      <th>DOW_Tuesday</th>\n",
              "      <th>DOW_Wednesday</th>\n",
              "    </tr>\n",
              "  </thead>\n",
              "  <tbody>\n",
              "    <tr>\n",
              "      <th>1</th>\n",
              "      <td>2718043</td>\n",
              "      <td>18</td>\n",
              "      <td>32</td>\n",
              "      <td>0</td>\n",
              "      <td>0</td>\n",
              "      <td>0</td>\n",
              "      <td>0</td>\n",
              "      <td>0</td>\n",
              "      <td>0</td>\n",
              "      <td>0</td>\n",
              "      <td>0</td>\n",
              "      <td>0</td>\n",
              "      <td>0</td>\n",
              "      <td>0</td>\n",
              "      <td>0</td>\n",
              "      <td>0</td>\n",
              "      <td>0</td>\n",
              "      <td>0</td>\n",
              "      <td>0</td>\n",
              "      <td>0</td>\n",
              "      <td>0</td>\n",
              "      <td>0</td>\n",
              "      <td>0</td>\n",
              "      <td>0</td>\n",
              "      <td>0</td>\n",
              "      <td>0</td>\n",
              "      <td>0</td>\n",
              "      <td>0</td>\n",
              "      <td>0</td>\n",
              "      <td>0</td>\n",
              "      <td>0</td>\n",
              "      <td>0</td>\n",
              "      <td>0</td>\n",
              "      <td>0</td>\n",
              "      <td>0</td>\n",
              "      <td>0</td>\n",
              "      <td>0</td>\n",
              "      <td>0</td>\n",
              "      <td>0</td>\n",
              "      <td>0</td>\n",
              "      <td>...</td>\n",
              "      <td>0</td>\n",
              "      <td>0</td>\n",
              "      <td>0</td>\n",
              "      <td>0</td>\n",
              "      <td>0</td>\n",
              "      <td>0</td>\n",
              "      <td>1</td>\n",
              "      <td>0</td>\n",
              "      <td>0</td>\n",
              "      <td>0</td>\n",
              "      <td>0</td>\n",
              "      <td>0</td>\n",
              "      <td>0</td>\n",
              "      <td>0</td>\n",
              "      <td>0</td>\n",
              "      <td>0</td>\n",
              "      <td>0</td>\n",
              "      <td>0</td>\n",
              "      <td>0</td>\n",
              "      <td>0</td>\n",
              "      <td>0</td>\n",
              "      <td>0</td>\n",
              "      <td>0</td>\n",
              "      <td>0</td>\n",
              "      <td>0</td>\n",
              "      <td>0</td>\n",
              "      <td>0</td>\n",
              "      <td>0</td>\n",
              "      <td>0</td>\n",
              "      <td>0</td>\n",
              "      <td>0</td>\n",
              "      <td>0</td>\n",
              "      <td>0</td>\n",
              "      <td>0</td>\n",
              "      <td>0</td>\n",
              "      <td>0</td>\n",
              "      <td>0</td>\n",
              "      <td>1</td>\n",
              "      <td>0</td>\n",
              "      <td>0</td>\n",
              "    </tr>\n",
              "    <tr>\n",
              "      <th>16</th>\n",
              "      <td>2718043</td>\n",
              "      <td>18</td>\n",
              "      <td>32</td>\n",
              "      <td>0</td>\n",
              "      <td>0</td>\n",
              "      <td>0</td>\n",
              "      <td>0</td>\n",
              "      <td>0</td>\n",
              "      <td>0</td>\n",
              "      <td>0</td>\n",
              "      <td>0</td>\n",
              "      <td>0</td>\n",
              "      <td>0</td>\n",
              "      <td>0</td>\n",
              "      <td>0</td>\n",
              "      <td>0</td>\n",
              "      <td>0</td>\n",
              "      <td>0</td>\n",
              "      <td>0</td>\n",
              "      <td>0</td>\n",
              "      <td>0</td>\n",
              "      <td>0</td>\n",
              "      <td>0</td>\n",
              "      <td>0</td>\n",
              "      <td>0</td>\n",
              "      <td>0</td>\n",
              "      <td>0</td>\n",
              "      <td>0</td>\n",
              "      <td>0</td>\n",
              "      <td>0</td>\n",
              "      <td>0</td>\n",
              "      <td>0</td>\n",
              "      <td>0</td>\n",
              "      <td>0</td>\n",
              "      <td>0</td>\n",
              "      <td>0</td>\n",
              "      <td>0</td>\n",
              "      <td>0</td>\n",
              "      <td>0</td>\n",
              "      <td>0</td>\n",
              "      <td>...</td>\n",
              "      <td>0</td>\n",
              "      <td>0</td>\n",
              "      <td>0</td>\n",
              "      <td>0</td>\n",
              "      <td>0</td>\n",
              "      <td>0</td>\n",
              "      <td>0</td>\n",
              "      <td>0</td>\n",
              "      <td>0</td>\n",
              "      <td>0</td>\n",
              "      <td>0</td>\n",
              "      <td>0</td>\n",
              "      <td>0</td>\n",
              "      <td>0</td>\n",
              "      <td>0</td>\n",
              "      <td>0</td>\n",
              "      <td>0</td>\n",
              "      <td>0</td>\n",
              "      <td>0</td>\n",
              "      <td>0</td>\n",
              "      <td>0</td>\n",
              "      <td>0</td>\n",
              "      <td>0</td>\n",
              "      <td>0</td>\n",
              "      <td>0</td>\n",
              "      <td>0</td>\n",
              "      <td>0</td>\n",
              "      <td>0</td>\n",
              "      <td>0</td>\n",
              "      <td>0</td>\n",
              "      <td>0</td>\n",
              "      <td>0</td>\n",
              "      <td>1</td>\n",
              "      <td>0</td>\n",
              "      <td>0</td>\n",
              "      <td>0</td>\n",
              "      <td>0</td>\n",
              "      <td>0</td>\n",
              "      <td>1</td>\n",
              "      <td>0</td>\n",
              "    </tr>\n",
              "    <tr>\n",
              "      <th>19</th>\n",
              "      <td>2718043</td>\n",
              "      <td>18</td>\n",
              "      <td>32</td>\n",
              "      <td>0</td>\n",
              "      <td>0</td>\n",
              "      <td>0</td>\n",
              "      <td>0</td>\n",
              "      <td>0</td>\n",
              "      <td>0</td>\n",
              "      <td>0</td>\n",
              "      <td>0</td>\n",
              "      <td>0</td>\n",
              "      <td>0</td>\n",
              "      <td>0</td>\n",
              "      <td>0</td>\n",
              "      <td>0</td>\n",
              "      <td>0</td>\n",
              "      <td>0</td>\n",
              "      <td>0</td>\n",
              "      <td>0</td>\n",
              "      <td>0</td>\n",
              "      <td>0</td>\n",
              "      <td>0</td>\n",
              "      <td>0</td>\n",
              "      <td>0</td>\n",
              "      <td>0</td>\n",
              "      <td>0</td>\n",
              "      <td>0</td>\n",
              "      <td>0</td>\n",
              "      <td>0</td>\n",
              "      <td>0</td>\n",
              "      <td>0</td>\n",
              "      <td>0</td>\n",
              "      <td>0</td>\n",
              "      <td>0</td>\n",
              "      <td>0</td>\n",
              "      <td>0</td>\n",
              "      <td>0</td>\n",
              "      <td>0</td>\n",
              "      <td>0</td>\n",
              "      <td>...</td>\n",
              "      <td>0</td>\n",
              "      <td>0</td>\n",
              "      <td>0</td>\n",
              "      <td>0</td>\n",
              "      <td>0</td>\n",
              "      <td>0</td>\n",
              "      <td>0</td>\n",
              "      <td>1</td>\n",
              "      <td>0</td>\n",
              "      <td>0</td>\n",
              "      <td>0</td>\n",
              "      <td>0</td>\n",
              "      <td>0</td>\n",
              "      <td>0</td>\n",
              "      <td>0</td>\n",
              "      <td>0</td>\n",
              "      <td>0</td>\n",
              "      <td>0</td>\n",
              "      <td>0</td>\n",
              "      <td>0</td>\n",
              "      <td>0</td>\n",
              "      <td>0</td>\n",
              "      <td>0</td>\n",
              "      <td>0</td>\n",
              "      <td>0</td>\n",
              "      <td>0</td>\n",
              "      <td>0</td>\n",
              "      <td>0</td>\n",
              "      <td>0</td>\n",
              "      <td>0</td>\n",
              "      <td>0</td>\n",
              "      <td>0</td>\n",
              "      <td>0</td>\n",
              "      <td>0</td>\n",
              "      <td>0</td>\n",
              "      <td>1</td>\n",
              "      <td>0</td>\n",
              "      <td>0</td>\n",
              "      <td>0</td>\n",
              "      <td>0</td>\n",
              "    </tr>\n",
              "    <tr>\n",
              "      <th>25</th>\n",
              "      <td>2718043</td>\n",
              "      <td>18</td>\n",
              "      <td>32</td>\n",
              "      <td>0</td>\n",
              "      <td>0</td>\n",
              "      <td>0</td>\n",
              "      <td>0</td>\n",
              "      <td>0</td>\n",
              "      <td>0</td>\n",
              "      <td>0</td>\n",
              "      <td>0</td>\n",
              "      <td>0</td>\n",
              "      <td>0</td>\n",
              "      <td>0</td>\n",
              "      <td>0</td>\n",
              "      <td>0</td>\n",
              "      <td>0</td>\n",
              "      <td>0</td>\n",
              "      <td>0</td>\n",
              "      <td>0</td>\n",
              "      <td>0</td>\n",
              "      <td>0</td>\n",
              "      <td>0</td>\n",
              "      <td>0</td>\n",
              "      <td>0</td>\n",
              "      <td>0</td>\n",
              "      <td>0</td>\n",
              "      <td>0</td>\n",
              "      <td>0</td>\n",
              "      <td>0</td>\n",
              "      <td>0</td>\n",
              "      <td>0</td>\n",
              "      <td>0</td>\n",
              "      <td>1</td>\n",
              "      <td>0</td>\n",
              "      <td>0</td>\n",
              "      <td>0</td>\n",
              "      <td>0</td>\n",
              "      <td>0</td>\n",
              "      <td>0</td>\n",
              "      <td>...</td>\n",
              "      <td>0</td>\n",
              "      <td>0</td>\n",
              "      <td>0</td>\n",
              "      <td>0</td>\n",
              "      <td>0</td>\n",
              "      <td>0</td>\n",
              "      <td>0</td>\n",
              "      <td>0</td>\n",
              "      <td>0</td>\n",
              "      <td>1</td>\n",
              "      <td>0</td>\n",
              "      <td>0</td>\n",
              "      <td>0</td>\n",
              "      <td>0</td>\n",
              "      <td>0</td>\n",
              "      <td>0</td>\n",
              "      <td>0</td>\n",
              "      <td>0</td>\n",
              "      <td>0</td>\n",
              "      <td>0</td>\n",
              "      <td>0</td>\n",
              "      <td>0</td>\n",
              "      <td>0</td>\n",
              "      <td>0</td>\n",
              "      <td>0</td>\n",
              "      <td>0</td>\n",
              "      <td>0</td>\n",
              "      <td>0</td>\n",
              "      <td>0</td>\n",
              "      <td>0</td>\n",
              "      <td>0</td>\n",
              "      <td>0</td>\n",
              "      <td>0</td>\n",
              "      <td>0</td>\n",
              "      <td>0</td>\n",
              "      <td>0</td>\n",
              "      <td>0</td>\n",
              "      <td>0</td>\n",
              "      <td>0</td>\n",
              "      <td>1</td>\n",
              "    </tr>\n",
              "    <tr>\n",
              "      <th>42</th>\n",
              "      <td>2718043</td>\n",
              "      <td>18</td>\n",
              "      <td>32</td>\n",
              "      <td>0</td>\n",
              "      <td>0</td>\n",
              "      <td>0</td>\n",
              "      <td>0</td>\n",
              "      <td>0</td>\n",
              "      <td>0</td>\n",
              "      <td>0</td>\n",
              "      <td>0</td>\n",
              "      <td>0</td>\n",
              "      <td>0</td>\n",
              "      <td>0</td>\n",
              "      <td>0</td>\n",
              "      <td>0</td>\n",
              "      <td>0</td>\n",
              "      <td>0</td>\n",
              "      <td>0</td>\n",
              "      <td>0</td>\n",
              "      <td>0</td>\n",
              "      <td>0</td>\n",
              "      <td>0</td>\n",
              "      <td>0</td>\n",
              "      <td>0</td>\n",
              "      <td>0</td>\n",
              "      <td>0</td>\n",
              "      <td>0</td>\n",
              "      <td>0</td>\n",
              "      <td>0</td>\n",
              "      <td>0</td>\n",
              "      <td>0</td>\n",
              "      <td>0</td>\n",
              "      <td>0</td>\n",
              "      <td>0</td>\n",
              "      <td>0</td>\n",
              "      <td>0</td>\n",
              "      <td>0</td>\n",
              "      <td>0</td>\n",
              "      <td>0</td>\n",
              "      <td>...</td>\n",
              "      <td>0</td>\n",
              "      <td>0</td>\n",
              "      <td>0</td>\n",
              "      <td>0</td>\n",
              "      <td>0</td>\n",
              "      <td>0</td>\n",
              "      <td>0</td>\n",
              "      <td>0</td>\n",
              "      <td>0</td>\n",
              "      <td>0</td>\n",
              "      <td>0</td>\n",
              "      <td>1</td>\n",
              "      <td>0</td>\n",
              "      <td>0</td>\n",
              "      <td>0</td>\n",
              "      <td>0</td>\n",
              "      <td>0</td>\n",
              "      <td>0</td>\n",
              "      <td>0</td>\n",
              "      <td>0</td>\n",
              "      <td>0</td>\n",
              "      <td>0</td>\n",
              "      <td>0</td>\n",
              "      <td>0</td>\n",
              "      <td>0</td>\n",
              "      <td>0</td>\n",
              "      <td>0</td>\n",
              "      <td>0</td>\n",
              "      <td>0</td>\n",
              "      <td>0</td>\n",
              "      <td>0</td>\n",
              "      <td>0</td>\n",
              "      <td>0</td>\n",
              "      <td>0</td>\n",
              "      <td>0</td>\n",
              "      <td>1</td>\n",
              "      <td>0</td>\n",
              "      <td>0</td>\n",
              "      <td>0</td>\n",
              "      <td>0</td>\n",
              "    </tr>\n",
              "  </tbody>\n",
              "</table>\n",
              "<p>5 rows × 614 columns</p>\n",
              "</div>"
            ],
            "text/plain": [
              "    CUSTOMER_ID  YEAR  AGE  ...  DOW_Thursday  DOW_Tuesday  DOW_Wednesday\n",
              "1       2718043    18   32  ...             1            0              0\n",
              "16      2718043    18   32  ...             0            1              0\n",
              "19      2718043    18   32  ...             0            0              0\n",
              "25      2718043    18   32  ...             0            0              1\n",
              "42      2718043    18   32  ...             0            0              0\n",
              "\n",
              "[5 rows x 614 columns]"
            ]
          },
          "metadata": {
            "tags": []
          },
          "execution_count": 35
        }
      ]
    },
    {
      "cell_type": "markdown",
      "metadata": {
        "id": "UNp-hkhSNy7y",
        "colab_type": "text"
      },
      "source": [
        "Q1. year정보 integer? or nominal?\n",
        "\n",
        "Q2. 하나하나 행의 시간 순서가 중요할까? (월, 일, 요일 정보는 중요한 것 같은데 2018년 트렌드와 2019트렌드가 다를까..!? 아님 사람(ID)의 성향 기반일까..)\n",
        "\n",
        "Q3. 메뉴 정보가 중요하고, 바뀌는 메뉴가 있다면 input이 달라졌을 때 고정 모델에 들어가는 feature dimension, 정보가 달라질 수 있으므로 령경이가 한 것 처럼 메뉴를 일반화시켜 어떤 고정된 형식의 특성에 대입시킬 수 있는 전처리 모델이 따로 있어야 할듯..!"
      ]
    },
    {
      "cell_type": "markdown",
      "metadata": {
        "id": "FV5pDxveNwAY",
        "colab_type": "text"
      },
      "source": [
        "## Decision Tree"
      ]
    },
    {
      "cell_type": "code",
      "metadata": {
        "id": "MJ5boSteK4lk",
        "colab_type": "code",
        "colab": {}
      },
      "source": [
        "from sklearn.tree import DecisionTreeClassifier"
      ],
      "execution_count": 0,
      "outputs": []
    },
    {
      "cell_type": "code",
      "metadata": {
        "id": "wjGJTZviLIHq",
        "colab_type": "code",
        "colab": {}
      },
      "source": [
        "from sklearn import metrics"
      ],
      "execution_count": 0,
      "outputs": []
    },
    {
      "cell_type": "code",
      "metadata": {
        "id": "62yRElY4LJCe",
        "colab_type": "code",
        "colab": {}
      },
      "source": [
        "DTmodel = DecisionTreeClassifier(criterion='entropy',max_depth=20, max_leaf_nodes=15)"
      ],
      "execution_count": 0,
      "outputs": []
    },
    {
      "cell_type": "code",
      "metadata": {
        "id": "-DQHGywSLKTW",
        "colab_type": "code",
        "outputId": "15689dbb-0f71-410c-aadc-a42f6409ee6e",
        "colab": {
          "base_uri": "https://localhost:8080/",
          "height": 125
        }
      },
      "source": [
        "DTmodel.fit(train_x, train_y)"
      ],
      "execution_count": 37,
      "outputs": [
        {
          "output_type": "execute_result",
          "data": {
            "text/plain": [
              "DecisionTreeClassifier(class_weight=None, criterion='entropy', max_depth=20,\n",
              "                       max_features=None, max_leaf_nodes=15,\n",
              "                       min_impurity_decrease=0.0, min_impurity_split=None,\n",
              "                       min_samples_leaf=1, min_samples_split=2,\n",
              "                       min_weight_fraction_leaf=0.0, presort=False,\n",
              "                       random_state=None, splitter='best')"
            ]
          },
          "metadata": {
            "tags": []
          },
          "execution_count": 37
        }
      ]
    },
    {
      "cell_type": "code",
      "metadata": {
        "id": "pLoREqjfLM3z",
        "colab_type": "code",
        "outputId": "78ca2e45-cfb1-4a14-a176-1484b627448a",
        "colab": {
          "base_uri": "https://localhost:8080/",
          "height": 35
        }
      },
      "source": [
        "DTmodel.score(train_x,train_y)*100"
      ],
      "execution_count": 38,
      "outputs": [
        {
          "output_type": "execute_result",
          "data": {
            "text/plain": [
              "31.23728287765426"
            ]
          },
          "metadata": {
            "tags": []
          },
          "execution_count": 38
        }
      ]
    },
    {
      "cell_type": "code",
      "metadata": {
        "id": "aZ_CApuoMW-1",
        "colab_type": "code",
        "outputId": "1af9f244-2cae-4e87-d4c9-f7c9014cf676",
        "colab": {
          "base_uri": "https://localhost:8080/",
          "height": 35
        }
      },
      "source": [
        "DTmodel.score(valid_x,valid_y)*100"
      ],
      "execution_count": 39,
      "outputs": [
        {
          "output_type": "execute_result",
          "data": {
            "text/plain": [
              "31.43164219936979"
            ]
          },
          "metadata": {
            "tags": []
          },
          "execution_count": 39
        }
      ]
    },
    {
      "cell_type": "markdown",
      "metadata": {
        "id": "Yx7ahfF9PbFF",
        "colab_type": "text"
      },
      "source": [
        "왠지 모르겠는데 valid 데이터셋 랜덤 샘플링하는 과정에서 feature하나가 없어지는 현상 발생하는 경우가 있더라고...다시말하면...추출된 데이터에서 MENU 카테고리중 관찰된게 없으면 dummy 처리할때 반영이 안 돼서 dimension이 train 데이터셋과 안 맞는 현상이 발 생할 수도 있음!\n",
        "-> 더더욱 령경이가 한 것처럼 메뉴를 좀 일반화해서 반영하는 것이 필요하다고 생각."
      ]
    },
    {
      "cell_type": "markdown",
      "metadata": {
        "id": "q0iyWfJcP_zT",
        "colab_type": "text"
      },
      "source": [
        "+ DT 성능 너무 별로.."
      ]
    },
    {
      "cell_type": "markdown",
      "metadata": {
        "id": "5FsRaoubPA1d",
        "colab_type": "text"
      },
      "source": [
        "##NaiveBayesian"
      ]
    },
    {
      "cell_type": "code",
      "metadata": {
        "id": "8qxrHi_5PEvI",
        "colab_type": "code",
        "colab": {}
      },
      "source": [
        "from sklearn.naive_bayes import MultinomialNB"
      ],
      "execution_count": 0,
      "outputs": []
    },
    {
      "cell_type": "code",
      "metadata": {
        "id": "P58VYiz0PGXa",
        "colab_type": "code",
        "colab": {}
      },
      "source": [
        "NBmodel = MultinomialNB()"
      ],
      "execution_count": 0,
      "outputs": []
    },
    {
      "cell_type": "code",
      "metadata": {
        "id": "_e5KauxuPHon",
        "colab_type": "code",
        "outputId": "ad4d9363-e2d3-49ef-e3dd-c87f0f9c988d",
        "colab": {
          "base_uri": "https://localhost:8080/",
          "height": 71
        }
      },
      "source": [
        "%time NBmodel.fit(train_x, train_y.values.ravel())"
      ],
      "execution_count": 42,
      "outputs": [
        {
          "output_type": "stream",
          "text": [
            "CPU times: user 7.77 s, sys: 2.11 s, total: 9.87 s\n",
            "Wall time: 8.67 s\n"
          ],
          "name": "stdout"
        },
        {
          "output_type": "execute_result",
          "data": {
            "text/plain": [
              "MultinomialNB(alpha=1.0, class_prior=None, fit_prior=True)"
            ]
          },
          "metadata": {
            "tags": []
          },
          "execution_count": 42
        }
      ]
    },
    {
      "cell_type": "code",
      "metadata": {
        "id": "v5bLN9lXPJcI",
        "colab_type": "code",
        "outputId": "4dd68fd3-3cff-49ea-b81d-8ecde7415f34",
        "colab": {
          "base_uri": "https://localhost:8080/",
          "height": 35
        }
      },
      "source": [
        "NBmodel.score(train_x, train_y)*100"
      ],
      "execution_count": 43,
      "outputs": [
        {
          "output_type": "execute_result",
          "data": {
            "text/plain": [
              "95.11161755689577"
            ]
          },
          "metadata": {
            "tags": []
          },
          "execution_count": 43
        }
      ]
    },
    {
      "cell_type": "code",
      "metadata": {
        "id": "9FTMTcE-RixC",
        "colab_type": "code",
        "colab": {
          "base_uri": "https://localhost:8080/",
          "height": 35
        },
        "outputId": "e2a4f992-6451-43a6-9099-5b57c67b3843"
      },
      "source": [
        "NBmodel.score(valid_x,valid_y)*100"
      ],
      "execution_count": 44,
      "outputs": [
        {
          "output_type": "execute_result",
          "data": {
            "text/plain": [
              "95.04531131683724"
            ]
          },
          "metadata": {
            "tags": []
          },
          "execution_count": 44
        }
      ]
    },
    {
      "cell_type": "markdown",
      "metadata": {
        "id": "cbH4bSnSQGPj",
        "colab_type": "text"
      },
      "source": [
        "오...성능 좋음"
      ]
    },
    {
      "cell_type": "code",
      "metadata": {
        "id": "9G9pvWkSPWn7",
        "colab_type": "code",
        "outputId": "417259d4-42dd-4603-8201-f97b6d910e77",
        "colab": {
          "base_uri": "https://localhost:8080/",
          "height": 35
        }
      },
      "source": [
        "NBmodel2 = MultinomialNB(alpha=0.5)\n",
        "NBmodel2.fit(train_x, train_y.values.ravel())\n",
        "acc_model = NBmodel2.score(train_x,train_y)*100\n",
        "print(acc_model)"
      ],
      "execution_count": 45,
      "outputs": [
        {
          "output_type": "stream",
          "text": [
            "95.13396793758504\n"
          ],
          "name": "stdout"
        }
      ]
    },
    {
      "cell_type": "code",
      "metadata": {
        "id": "-IebypGXX082",
        "colab_type": "code",
        "colab": {
          "base_uri": "https://localhost:8080/",
          "height": 35
        },
        "outputId": "04b71738-5d36-4ab1-cd6c-4d3a7f45b01b"
      },
      "source": [
        "acc_eval = NBmodel2.score(valid_x,valid_y)*100\n",
        "print(acc_eval)"
      ],
      "execution_count": 47,
      "outputs": [
        {
          "output_type": "stream",
          "text": [
            "95.06729524414372\n"
          ],
          "name": "stdout"
        }
      ]
    },
    {
      "cell_type": "code",
      "metadata": {
        "id": "XWp876koQQ-h",
        "colab_type": "code",
        "outputId": "458bba81-c331-4047-9433-4bf2546a903a",
        "colab": {
          "base_uri": "https://localhost:8080/",
          "height": 53
        }
      },
      "source": [
        "NBmodel3 = MultinomialNB(alpha=0.01)\n",
        "NBmodel3.fit(train_x, train_y.values.ravel())\n",
        "acc_model = NBmodel3.score(train_x,train_y)*100\n",
        "print(acc_model)\n",
        "acc_eval = NBmodel3.score(valid_x,valid_y)*100\n",
        "print(acc_eval)"
      ],
      "execution_count": 48,
      "outputs": [
        {
          "output_type": "stream",
          "text": [
            "95.14459352840451\n",
            "95.07755441022009\n"
          ],
          "name": "stdout"
        }
      ]
    },
    {
      "cell_type": "markdown",
      "metadata": {
        "id": "fE6UM6T1QZCM",
        "colab_type": "text"
      },
      "source": [
        "alpha = smoothing factor라는데, 블로그에서\n",
        "\n",
        "\n",
        "스무딩은 동전의 각 면 즉, 0과 1이 나오는 가상의 데이터를 추가함으로서 추정한 모수의 값이 좀 더 0.5에 가까워지도록 하는 방법이다. \n",
        "\n",
        "라고 하지만 뭔 소린지 모르겠음...암튼 성능 나쁘지 않음\n",
        "\n",
        "간단하게, alpha가 크면 더 완만해지고 모델의 복잡도가 낮아진다고함. alpha값이 성능 향상에 크게 기여하지 않지만 잘 조정하면 어느 정도 정확도를 높일 수 있다고 함..!"
      ]
    },
    {
      "cell_type": "markdown",
      "metadata": {
        "id": "wXJ6ajaoRRTF",
        "colab_type": "text"
      },
      "source": [
        "## RandomForest"
      ]
    },
    {
      "cell_type": "code",
      "metadata": {
        "id": "1g6lCUu1RWep",
        "colab_type": "code",
        "colab": {}
      },
      "source": [
        "from sklearn.ensemble import RandomForestClassifier"
      ],
      "execution_count": 0,
      "outputs": []
    },
    {
      "cell_type": "code",
      "metadata": {
        "id": "Cpm6ZucTRXhn",
        "colab_type": "code",
        "colab": {}
      },
      "source": [
        "RFmodel = RandomForestClassifier(max_depth=50, max_leaf_nodes=15)"
      ],
      "execution_count": 0,
      "outputs": []
    },
    {
      "cell_type": "code",
      "metadata": {
        "id": "IiJ0PI0vRYVt",
        "colab_type": "code",
        "outputId": "3ed137cb-07c0-44e8-cf67-f4544b334b9b",
        "colab": {
          "base_uri": "https://localhost:8080/",
          "height": 199
        }
      },
      "source": [
        "RFmodel.fit(train_x,train_y.values.ravel())"
      ],
      "execution_count": 51,
      "outputs": [
        {
          "output_type": "stream",
          "text": [
            "/usr/local/lib/python3.6/dist-packages/sklearn/ensemble/forest.py:245: FutureWarning: The default value of n_estimators will change from 10 in version 0.20 to 100 in 0.22.\n",
            "  \"10 in version 0.20 to 100 in 0.22.\", FutureWarning)\n"
          ],
          "name": "stderr"
        },
        {
          "output_type": "execute_result",
          "data": {
            "text/plain": [
              "RandomForestClassifier(bootstrap=True, class_weight=None, criterion='gini',\n",
              "                       max_depth=50, max_features='auto', max_leaf_nodes=15,\n",
              "                       min_impurity_decrease=0.0, min_impurity_split=None,\n",
              "                       min_samples_leaf=1, min_samples_split=2,\n",
              "                       min_weight_fraction_leaf=0.0, n_estimators=10,\n",
              "                       n_jobs=None, oob_score=False, random_state=None,\n",
              "                       verbose=0, warm_start=False)"
            ]
          },
          "metadata": {
            "tags": []
          },
          "execution_count": 51
        }
      ]
    },
    {
      "cell_type": "code",
      "metadata": {
        "id": "nURvRFq3RZo-",
        "colab_type": "code",
        "outputId": "e06f16cf-c091-41ef-b4a1-291d4b5626f3",
        "colab": {
          "base_uri": "https://localhost:8080/",
          "height": 35
        }
      },
      "source": [
        "RFmodel.score(train_x, train_y)*100"
      ],
      "execution_count": 52,
      "outputs": [
        {
          "output_type": "execute_result",
          "data": {
            "text/plain": [
              "49.18036390816558"
            ]
          },
          "metadata": {
            "tags": []
          },
          "execution_count": 52
        }
      ]
    },
    {
      "cell_type": "code",
      "metadata": {
        "id": "B1jR7SXWRtPs",
        "colab_type": "code",
        "colab": {
          "base_uri": "https://localhost:8080/",
          "height": 35
        },
        "outputId": "6803bf41-9c04-41bd-dfdd-a3859e099869"
      },
      "source": [
        "RFmodel.score(valid_x,valid_y)*100"
      ],
      "execution_count": 53,
      "outputs": [
        {
          "output_type": "execute_result",
          "data": {
            "text/plain": [
              "49.43794425853098"
            ]
          },
          "metadata": {
            "tags": []
          },
          "execution_count": 53
        }
      ]
    },
    {
      "cell_type": "markdown",
      "metadata": {
        "id": "4TsiNsFQSRw8",
        "colab_type": "text"
      },
      "source": [
        "decision tree랑 max_depth가 달라서 뭐가 좋다고 아직 말하긴 좀 그렇지만,, parameter값들을 잘 조정해보면 좋을 듯!(시간상 시도는 brightics에서..)"
      ]
    },
    {
      "cell_type": "markdown",
      "metadata": {
        "id": "9PyGjPmvSivK",
        "colab_type": "text"
      },
      "source": [
        "## SVM classifier"
      ]
    },
    {
      "cell_type": "code",
      "metadata": {
        "id": "WgRDAHAwSoIm",
        "colab_type": "code",
        "colab": {}
      },
      "source": [
        "from sklearn.svm import SVC"
      ],
      "execution_count": 0,
      "outputs": []
    },
    {
      "cell_type": "markdown",
      "metadata": {
        "id": "BDr7y6IyS8Z5",
        "colab_type": "text"
      },
      "source": [
        "**kernel** = linear/rbf\n",
        "\n",
        "*  커널 기법은 주어진 데이터를 고차원 특징 공간으로 사상해주는 것이다. 커널에는 Polynomial 커널, Sigmoid 커널, 가우시안 RBF 커널 등 종류가 많은데, 그 중 가장 성능이 좋아 자주 사용되는 것이 가우시안 RBF 커널이다. \n",
        "\n",
        "**gamma**=scale/auto\n",
        "\n",
        "* gamma는 하나의 데이터 샘플이 영향력을 행사하는 거리를 결정한다. gamma는 가우시안 함수의 표준편차와 관련되어 있는데, 클수록 작은 표준편차를 갖는다. 즉, gamma가 클수록 한 데이터 포인터들이 영향력을 행사하는 거리가 짧아지는 반면, gamma가 낮을수록 커진다. \n",
        "\n",
        "**C**=regularization penalty 제약 조건\n",
        "\n",
        "* C는 얼마나 많은 데이터 샘플이 다른 클래스에 놓이는 것을 허용하는지를 결정한다. 작을 수록 많이 허용하고, 클 수록 적게 허용한다. 다른 말로, C값을 낮게 설정하면 이상치들이 있을 가능성을 크게 잡아 일반적인 결정 경계를 찾아내고, 높게 설정하면 반대로 이상치의 존재 가능성을 작게 봐서 좀 더 세심하게 결정 경계를 찾아낸다. \"난 데이터 샘플하나도 잘못 분류할 수 없어!\"라면 C를 높여야한다. 반대로 \"몇 개는 놓쳐도 괜찮아, 이상치들이 꽤 있을 수도 있으니까\"라면 C를 낮춰야한다."
      ]
    },
    {
      "cell_type": "code",
      "metadata": {
        "id": "4mayTVo_SszI",
        "colab_type": "code",
        "colab": {}
      },
      "source": [
        "SVMmodel = SVC(C=3,kernel='rbf',gamma='auto')"
      ],
      "execution_count": 0,
      "outputs": []
    },
    {
      "cell_type": "code",
      "metadata": {
        "id": "x6Z6XVGLYMqR",
        "colab_type": "code",
        "colab": {}
      },
      "source": [
        "SVMmodel.fit(train_x,train_y.values.ravel())"
      ],
      "execution_count": 0,
      "outputs": []
    },
    {
      "cell_type": "code",
      "metadata": {
        "id": "0m1gTaApYTuE",
        "colab_type": "code",
        "colab": {}
      },
      "source": [
        "SVMmodel.score(train_x, train_y)*100"
      ],
      "execution_count": 0,
      "outputs": []
    },
    {
      "cell_type": "code",
      "metadata": {
        "id": "o6BtVSpSYWbJ",
        "colab_type": "code",
        "colab": {}
      },
      "source": [
        "SVMmodel.score(valid_x, valid_y)*100"
      ],
      "execution_count": 0,
      "outputs": []
    },
    {
      "cell_type": "markdown",
      "metadata": {
        "id": "NahgI7DnZ0tI",
        "colab_type": "text"
      },
      "source": [
        "## Logistic Regression"
      ]
    },
    {
      "cell_type": "code",
      "metadata": {
        "id": "6lffSzPkZ3aO",
        "colab_type": "code",
        "colab": {}
      },
      "source": [
        "from sklearn.linear_model import LogisticRegression"
      ],
      "execution_count": 0,
      "outputs": []
    },
    {
      "cell_type": "code",
      "metadata": {
        "id": "UJBNFXhkZ6Kn",
        "colab_type": "code",
        "colab": {}
      },
      "source": [
        "logit = LogisticRegression(C=0.1, multi_class='multinomial', solver='lbfgs',class_weight='balanced')"
      ],
      "execution_count": 0,
      "outputs": []
    },
    {
      "cell_type": "code",
      "metadata": {
        "id": "lNepG8P7aBk5",
        "colab_type": "code",
        "colab": {
          "base_uri": "https://localhost:8080/",
          "height": 107
        },
        "outputId": "311c5735-2e07-4de8-8f7c-899772783c9c"
      },
      "source": [
        "logit.fit(train_x,train_y)"
      ],
      "execution_count": 36,
      "outputs": [
        {
          "output_type": "execute_result",
          "data": {
            "text/plain": [
              "LogisticRegression(C=0.1, class_weight='balanced', dual=False,\n",
              "                   fit_intercept=True, intercept_scaling=1, l1_ratio=None,\n",
              "                   max_iter=100, multi_class='multinomial', n_jobs=None,\n",
              "                   penalty='l2', random_state=None, solver='lbfgs', tol=0.0001,\n",
              "                   verbose=0, warm_start=False)"
            ]
          },
          "metadata": {
            "tags": []
          },
          "execution_count": 36
        }
      ]
    },
    {
      "cell_type": "code",
      "metadata": {
        "id": "ua5cGybeaE2y",
        "colab_type": "code",
        "colab": {
          "base_uri": "https://localhost:8080/",
          "height": 35
        },
        "outputId": "98a380e4-173a-433c-c6f5-2dfe3d8f76c6"
      },
      "source": [
        "logit.score(train_x, train_y)"
      ],
      "execution_count": 37,
      "outputs": [
        {
          "output_type": "execute_result",
          "data": {
            "text/plain": [
              "0.035587179919343216"
            ]
          },
          "metadata": {
            "tags": []
          },
          "execution_count": 37
        }
      ]
    },
    {
      "cell_type": "code",
      "metadata": {
        "id": "XBdG1O1ua4Zl",
        "colab_type": "code",
        "colab": {
          "base_uri": "https://localhost:8080/",
          "height": 35
        },
        "outputId": "037bd297-398a-4f23-bb6b-650c7e469aa8"
      },
      "source": [
        "logit.score(valid_x,valid_y)"
      ],
      "execution_count": 38,
      "outputs": [
        {
          "output_type": "execute_result",
          "data": {
            "text/plain": [
              "0.03513520115293486"
            ]
          },
          "metadata": {
            "tags": []
          },
          "execution_count": 38
        }
      ]
    },
    {
      "cell_type": "markdown",
      "metadata": {
        "id": "37Uhmrj5baPK",
        "colab_type": "text"
      },
      "source": [
        "말도 안 되는..충격과 공포의  낮은 성능...."
      ]
    }
  ]
}